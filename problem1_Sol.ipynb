{
 "cells": [
  {
   "cell_type": "code",
   "execution_count": 1,
   "metadata": {},
   "outputs": [],
   "source": [
    "# Lets say the input data is in boxData.csv\n",
    "# import pandas library\n",
    "import pandas as pd\n",
    "import numpy as np\n",
    "# Read Data\n",
    "data = pd.read_csv('boxData.csv')"
   ]
  },
  {
   "cell_type": "code",
   "execution_count": 2,
   "metadata": {},
   "outputs": [
    {
     "data": {
      "text/html": [
       "<div>\n",
       "<style scoped>\n",
       "    .dataframe tbody tr th:only-of-type {\n",
       "        vertical-align: middle;\n",
       "    }\n",
       "\n",
       "    .dataframe tbody tr th {\n",
       "        vertical-align: top;\n",
       "    }\n",
       "\n",
       "    .dataframe thead th {\n",
       "        text-align: right;\n",
       "    }\n",
       "</style>\n",
       "<table border=\"1\" class=\"dataframe\">\n",
       "  <thead>\n",
       "    <tr style=\"text-align: right;\">\n",
       "      <th></th>\n",
       "      <th>ID</th>\n",
       "      <th>Label</th>\n",
       "      <th>x0</th>\n",
       "      <th>y0</th>\n",
       "      <th>x1</th>\n",
       "      <th>y1</th>\n",
       "    </tr>\n",
       "  </thead>\n",
       "  <tbody>\n",
       "    <tr>\n",
       "      <td>0</td>\n",
       "      <td>1</td>\n",
       "      <td>L1</td>\n",
       "      <td>5</td>\n",
       "      <td>10</td>\n",
       "      <td>15</td>\n",
       "      <td>20</td>\n",
       "    </tr>\n",
       "    <tr>\n",
       "      <td>1</td>\n",
       "      <td>2</td>\n",
       "      <td>L2</td>\n",
       "      <td>25</td>\n",
       "      <td>35</td>\n",
       "      <td>60</td>\n",
       "      <td>70</td>\n",
       "    </tr>\n",
       "  </tbody>\n",
       "</table>\n",
       "</div>"
      ],
      "text/plain": [
       "   ID Label  x0  y0  x1  y1\n",
       "0   1    L1   5  10  15  20\n",
       "1   2    L2  25  35  60  70"
      ]
     },
     "execution_count": 2,
     "metadata": {},
     "output_type": "execute_result"
    }
   ],
   "source": [
    "data.head()"
   ]
  },
  {
   "cell_type": "code",
   "execution_count": 3,
   "metadata": {},
   "outputs": [],
   "source": [
    "# Appraoch 1 : grouping when neighbours with other label doesn't make nay difference"
   ]
  },
  {
   "cell_type": "code",
   "execution_count": null,
   "metadata": {},
   "outputs": [],
   "source": [
    "def group(df):\n",
    "#     Iterate through the ID to get the grouping\n",
    "    count = df.count()\n",
    "    for i in df.ID:\n",
    "        x_val = df[['ID' , 'x0', 'x1']].values\n",
    "        y_val = df[['ID' , 'y0', 'y1']].values\n",
    "        \n",
    "        x0 = df[df['ID'] == i].x0 + 0.5\n",
    "        x1 = df[df['ID'] == i].x1 + 0.5\n",
    "        y0 = df[df['ID'] == i].y0 + 0.5\n",
    "        y1 = df[df['ID'] == i].y1 + 0.5\n",
    "        \n",
    "        j = 0\n",
    "        while (j < count ):\n",
    "            if(x0 < x_val[j][1] or x1 < x_val[j][2] or x0 < x_val[j][2]  or x1 < x_val[j][1]):\n",
    "                x0 = max(x_val[j][1] , x_val[j][2])\n",
    "                x0 = x0 + 0.5\n",
    "                \n",
    "                j = j + 1\n",
    "                \n",
    "                df = df.drop(df['ID'] = j)\n",
    "                x_val = np.delete(x_val, j)\n",
    "            \n",
    "            elif(x0 < x_val[j][1] or x1 < x_val[j][2] or x0 < x_val[j][2]  or x1 < x_val[j][1]):\n",
    "                x1 = max(x_val[j][1] , x_val[j][2])\n",
    "                x1 = x0 + 0.5\n",
    "                \n",
    "                j = j + 1\n",
    "                \n",
    "                df = df.drop(df['ID'] = j)\n",
    "                x_val = np.delete(x_val, j)\n",
    "            \n",
    "            elif (y0 < y_val[j][1] or y1 < y_val[j][2] or y0 < y_val[j][2]  or y1 < y_val[j][1]) :\n",
    "                y0 = max(y_val[j][1] , y_val[j][2])\n",
    "                y0 = y0 + 0.5\n",
    "                j = j + 1\n",
    "                \n",
    "                df = df.drop(df['ID'] = j)\n",
    "                y_val = np.delete(y_val, j)\n",
    "                \n",
    "            elif (y0 < y_val[j][1] or y1 < y_val[j][2] or y0 < y_val[j][2]  or y1 < y_val[j][1]) :\n",
    "                y1 = max(y_val[j][1] , y_val[j][2])\n",
    "                y1 = y0 + 0.5\n",
    "                j = j + 1\n",
    "                \n",
    "                df = df.drop(df['ID'] = j)\n",
    "                y_val = np.delete(y_val, j)\n",
    "                \n",
    "            else :\n",
    "                pass\n",
    "        df[df['ID']==i].x0 = x0\n",
    "        df[df['ID']==i].x1 = x1\n",
    "        df[df['ID']==i].y0 = y0\n",
    "        df[df['ID']==i].y1 = y1\n",
    "    \n",
    "    return df\n",
    "            \n"
   ]
  }
 ],
 "metadata": {
  "kernelspec": {
   "display_name": "Python 3",
   "language": "python",
   "name": "python3"
  },
  "language_info": {
   "codemirror_mode": {
    "name": "ipython",
    "version": 3
   },
   "file_extension": ".py",
   "mimetype": "text/x-python",
   "name": "python",
   "nbconvert_exporter": "python",
   "pygments_lexer": "ipython3",
   "version": "3.6.1"
  }
 },
 "nbformat": 4,
 "nbformat_minor": 2
}
